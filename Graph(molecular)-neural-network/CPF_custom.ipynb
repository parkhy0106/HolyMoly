{
  "nbformat": 4,
  "nbformat_minor": 0,
  "metadata": {
    "colab": {
      "name": "CPF_custom.ipynb",
      "provenance": [],
      "mount_file_id": "1L-8hb8vQL61QwCaNFcm5YWCJ1KYxKmwW",
      "authorship_tag": "ABX9TyMST17vSY+wrEJu/F20nws9",
      "include_colab_link": true
    },
    "kernelspec": {
      "name": "python3",
      "display_name": "Python 3"
    },
    "language_info": {
      "name": "python"
    }
  },
  "cells": [
    {
      "cell_type": "markdown",
      "metadata": {
        "id": "view-in-github",
        "colab_type": "text"
      },
      "source": [
        "<a href=\"https://colab.research.google.com/github/parkhy0106/HolyMoly/blob/master/Graph(molecular)-neural-network/CPF_custom.ipynb\" target=\"_parent\"><img src=\"https://colab.research.google.com/assets/colab-badge.svg\" alt=\"Open In Colab\"/></a>"
      ]
    },
    {
      "cell_type": "code",
      "metadata": {
        "colab": {
          "base_uri": "https://localhost:8080/"
        },
        "id": "Hkvu14nGWQ9n",
        "outputId": "669c3a51-e9e9-419d-9ebe-6dbc6eab5ad1"
      },
      "source": [
        "!git clone https://github.com/BUPT-GAMMA/CPF.git"
      ],
      "execution_count": null,
      "outputs": [
        {
          "output_type": "stream",
          "text": [
            "Cloning into 'CPF'...\n",
            "remote: Enumerating objects: 124, done.\u001b[K\n",
            "remote: Counting objects: 100% (124/124), done.\u001b[K\n",
            "remote: Compressing objects: 100% (102/102), done.\u001b[K\n",
            "remote: Total 124 (delta 47), reused 79 (delta 21), pack-reused 0\u001b[K\n",
            "Receiving objects: 100% (124/124), 22.84 MiB | 20.21 MiB/s, done.\n",
            "Resolving deltas: 100% (47/47), done.\n"
          ],
          "name": "stdout"
        }
      ]
    },
    {
      "cell_type": "code",
      "metadata": {
        "colab": {
          "base_uri": "https://localhost:8080/"
        },
        "id": "mpA4YCFEII7E",
        "outputId": "a792347d-459d-4add-c70f-45cefe18187f"
      },
      "source": [
        "!pip3 install pip install rdkit-pypi"
      ],
      "execution_count": null,
      "outputs": [
        {
          "output_type": "stream",
          "text": [
            "Requirement already satisfied: pip in /usr/local/lib/python3.7/dist-packages (21.1.3)\n",
            "Collecting install\n",
            "  Downloading install-1.3.4-py3-none-any.whl (3.1 kB)\n",
            "Collecting rdkit-pypi\n",
            "  Downloading rdkit_pypi-2021.3.4-cp37-cp37m-manylinux2014_x86_64.whl (18.6 MB)\n",
            "\u001b[K     |████████████████████████████████| 18.6 MB 1.2 MB/s \n",
            "\u001b[?25hRequirement already satisfied: numpy>=1.19 in /usr/local/lib/python3.7/dist-packages (from rdkit-pypi) (1.19.5)\n",
            "Installing collected packages: rdkit-pypi, install\n",
            "Successfully installed install-1.3.4 rdkit-pypi-2021.3.4\n"
          ],
          "name": "stdout"
        }
      ]
    },
    {
      "cell_type": "code",
      "metadata": {
        "colab": {
          "base_uri": "https://localhost:8080/"
        },
        "id": "Brjy8eBmWakN",
        "outputId": "f7c442bf-7b84-4ba3-944f-fcf295363917"
      },
      "source": [
        "cd CPF"
      ],
      "execution_count": null,
      "outputs": [
        {
          "output_type": "stream",
          "text": [
            "/content/CPF\n"
          ],
          "name": "stdout"
        }
      ]
    },
    {
      "cell_type": "code",
      "metadata": {
        "colab": {
          "base_uri": "https://localhost:8080/",
          "height": 1000
        },
        "id": "KyOoMYo_WfJF",
        "outputId": "0630a7fe-b45c-4f22-cbec-c513de1005b3"
      },
      "source": [
        "!pip install -r requirements.txt"
      ],
      "execution_count": null,
      "outputs": [
        {
          "output_type": "stream",
          "text": [
            "Collecting scipy==1.5.2\n",
            "  Downloading scipy-1.5.2-cp37-cp37m-manylinux1_x86_64.whl (25.9 MB)\n",
            "\u001b[K     |████████████████████████████████| 25.9 MB 1.8 MB/s \n",
            "\u001b[?25hCollecting ogb==1.2.6\n",
            "  Downloading ogb-1.2.6-py3-none-any.whl (58 kB)\n",
            "\u001b[K     |████████████████████████████████| 58 kB 5.1 MB/s \n",
            "\u001b[?25hCollecting optuna==2.4.0\n",
            "  Downloading optuna-2.4.0-py3-none-any.whl (282 kB)\n",
            "\u001b[K     |████████████████████████████████| 282 kB 51.0 MB/s \n",
            "\u001b[?25hCollecting networkx==2.5\n",
            "  Downloading networkx-2.5-py3-none-any.whl (1.6 MB)\n",
            "\u001b[K     |████████████████████████████████| 1.6 MB 51.8 MB/s \n",
            "\u001b[?25hCollecting dgl_cu100==0.5.2\n",
            "  Downloading dgl_cu100-0.5.2-cp37-cp37m-manylinux1_x86_64.whl (25.0 MB)\n",
            "\u001b[K     |████████████████████████████████| 25.0 MB 69.3 MB/s \n",
            "\u001b[?25hCollecting torch==1.7.1\n",
            "  Downloading torch-1.7.1-cp37-cp37m-manylinux1_x86_64.whl (776.8 MB)\n",
            "\u001b[K     |████████████████████████████████| 776.8 MB 15 kB/s \n",
            "\u001b[?25hCollecting cogdl==0.2.0.post1\n",
            "  Downloading cogdl-0.2.0.post1-py3-none-any.whl (281 kB)\n",
            "\u001b[K     |████████████████████████████████| 281 kB 59.0 MB/s \n",
            "\u001b[?25hCollecting numpy==1.19.2\n",
            "  Downloading numpy-1.19.2-cp37-cp37m-manylinux2010_x86_64.whl (14.5 MB)\n",
            "\u001b[K     |████████████████████████████████| 14.5 MB 63 kB/s \n",
            "\u001b[?25hCollecting tabulate==0.8.7\n",
            "  Downloading tabulate-0.8.7-py3-none-any.whl (24 kB)\n",
            "Collecting tqdm==4.51.0\n",
            "  Downloading tqdm-4.51.0-py2.py3-none-any.whl (70 kB)\n",
            "\u001b[K     |████████████████████████████████| 70 kB 8.7 MB/s \n",
            "\u001b[?25hCollecting dgl==0.6.0\n",
            "  Downloading dgl-0.6.0-cp37-cp37m-manylinux1_x86_64.whl (4.2 MB)\n",
            "\u001b[K     |████████████████████████████████| 4.2 MB 30.8 MB/s \n",
            "\u001b[?25hCollecting PyYAML==5.4.1\n",
            "  Downloading PyYAML-5.4.1-cp37-cp37m-manylinux1_x86_64.whl (636 kB)\n",
            "\u001b[K     |████████████████████████████████| 636 kB 62.1 MB/s \n",
            "\u001b[?25hCollecting scikit_learn==0.24.1\n",
            "  Downloading scikit_learn-0.24.1-cp37-cp37m-manylinux2010_x86_64.whl (22.3 MB)\n",
            "\u001b[K     |████████████████████████████████| 22.3 MB 10.2 MB/s \n",
            "\u001b[?25hRequirement already satisfied: six>=1.12.0 in /usr/local/lib/python3.7/dist-packages (from ogb==1.2.6->-r requirements.txt (line 2)) (1.15.0)\n",
            "Requirement already satisfied: pandas>=0.24.0 in /usr/local/lib/python3.7/dist-packages (from ogb==1.2.6->-r requirements.txt (line 2)) (1.1.5)\n",
            "Requirement already satisfied: urllib3>=1.24.0 in /usr/local/lib/python3.7/dist-packages (from ogb==1.2.6->-r requirements.txt (line 2)) (1.24.3)\n",
            "Collecting outdated>=0.2.0\n",
            "  Downloading outdated-0.2.1-py3-none-any.whl (7.5 kB)\n",
            "Requirement already satisfied: sqlalchemy>=1.1.0 in /usr/local/lib/python3.7/dist-packages (from optuna==2.4.0->-r requirements.txt (line 3)) (1.4.22)\n",
            "Collecting cmaes>=0.6.0\n",
            "  Downloading cmaes-0.8.2-py3-none-any.whl (15 kB)\n",
            "Requirement already satisfied: joblib in /usr/local/lib/python3.7/dist-packages (from optuna==2.4.0->-r requirements.txt (line 3)) (1.0.1)\n",
            "Requirement already satisfied: packaging>=20.0 in /usr/local/lib/python3.7/dist-packages (from optuna==2.4.0->-r requirements.txt (line 3)) (21.0)\n",
            "Collecting colorlog\n",
            "  Downloading colorlog-6.4.1-py2.py3-none-any.whl (11 kB)\n",
            "Collecting alembic\n",
            "  Downloading alembic-1.6.5-py2.py3-none-any.whl (164 kB)\n",
            "\u001b[K     |████████████████████████████████| 164 kB 50.5 MB/s \n",
            "\u001b[?25hCollecting cliff\n",
            "  Downloading cliff-3.9.0-py3-none-any.whl (80 kB)\n",
            "\u001b[K     |████████████████████████████████| 80 kB 8.4 MB/s \n",
            "\u001b[?25hRequirement already satisfied: decorator>=4.3.0 in /usr/local/lib/python3.7/dist-packages (from networkx==2.5->-r requirements.txt (line 4)) (4.4.2)\n",
            "Requirement already satisfied: requests>=2.19.0 in /usr/local/lib/python3.7/dist-packages (from dgl_cu100==0.5.2->-r requirements.txt (line 5)) (2.23.0)\n",
            "Requirement already satisfied: typing-extensions in /usr/local/lib/python3.7/dist-packages (from torch==1.7.1->-r requirements.txt (line 6)) (3.7.4.3)\n",
            "Collecting emoji\n",
            "  Downloading emoji-1.4.2.tar.gz (184 kB)\n",
            "\u001b[K     |████████████████████████████████| 184 kB 61.1 MB/s \n",
            "\u001b[?25hRequirement already satisfied: matplotlib in /usr/local/lib/python3.7/dist-packages (from cogdl==0.2.0.post1->-r requirements.txt (line 7)) (3.2.2)\n",
            "Collecting grave\n",
            "  Downloading grave-0.0.3-py3-none-any.whl (15 kB)\n",
            "Requirement already satisfied: numba in /usr/local/lib/python3.7/dist-packages (from cogdl==0.2.0.post1->-r requirements.txt (line 7)) (0.51.2)\n",
            "Collecting pre-commit\n",
            "  Downloading pre_commit-2.14.0-py2.py3-none-any.whl (191 kB)\n",
            "\u001b[K     |████████████████████████████████| 191 kB 53.2 MB/s \n",
            "\u001b[?25hCollecting flake8\n",
            "  Downloading flake8-3.9.2-py2.py3-none-any.whl (73 kB)\n",
            "\u001b[K     |████████████████████████████████| 73 kB 1.6 MB/s \n",
            "\u001b[?25hRequirement already satisfied: gensim in /usr/local/lib/python3.7/dist-packages (from cogdl==0.2.0.post1->-r requirements.txt (line 7)) (3.6.0)\n",
            "Collecting texttable\n",
            "  Downloading texttable-1.6.4-py2.py3-none-any.whl (10 kB)\n",
            "Collecting pyinquirer\n",
            "  Downloading PyInquirer-1.0.3.tar.gz (27 kB)\n",
            "Collecting transformers\n",
            "  Downloading transformers-4.9.2-py3-none-any.whl (2.6 MB)\n",
            "\u001b[K     |████████████████████████████████| 2.6 MB 38.1 MB/s \n",
            "\u001b[?25hCollecting threadpoolctl>=2.0.0\n",
            "  Downloading threadpoolctl-2.2.0-py3-none-any.whl (12 kB)\n",
            "Collecting littleutils\n",
            "  Downloading littleutils-0.2.2.tar.gz (6.6 kB)\n",
            "Requirement already satisfied: pyparsing>=2.0.2 in /usr/local/lib/python3.7/dist-packages (from packaging>=20.0->optuna==2.4.0->-r requirements.txt (line 3)) (2.4.7)\n",
            "Requirement already satisfied: pytz>=2017.2 in /usr/local/lib/python3.7/dist-packages (from pandas>=0.24.0->ogb==1.2.6->-r requirements.txt (line 2)) (2018.9)\n",
            "Requirement already satisfied: python-dateutil>=2.7.3 in /usr/local/lib/python3.7/dist-packages (from pandas>=0.24.0->ogb==1.2.6->-r requirements.txt (line 2)) (2.8.2)\n",
            "Requirement already satisfied: certifi>=2017.4.17 in /usr/local/lib/python3.7/dist-packages (from requests>=2.19.0->dgl_cu100==0.5.2->-r requirements.txt (line 5)) (2021.5.30)\n",
            "Requirement already satisfied: chardet<4,>=3.0.2 in /usr/local/lib/python3.7/dist-packages (from requests>=2.19.0->dgl_cu100==0.5.2->-r requirements.txt (line 5)) (3.0.4)\n",
            "Requirement already satisfied: idna<3,>=2.5 in /usr/local/lib/python3.7/dist-packages (from requests>=2.19.0->dgl_cu100==0.5.2->-r requirements.txt (line 5)) (2.10)\n",
            "Requirement already satisfied: greenlet!=0.4.17 in /usr/local/lib/python3.7/dist-packages (from sqlalchemy>=1.1.0->optuna==2.4.0->-r requirements.txt (line 3)) (1.1.1)\n",
            "Requirement already satisfied: importlib-metadata in /usr/local/lib/python3.7/dist-packages (from sqlalchemy>=1.1.0->optuna==2.4.0->-r requirements.txt (line 3)) (4.6.4)\n",
            "Collecting Mako\n",
            "  Downloading Mako-1.1.5-py2.py3-none-any.whl (75 kB)\n",
            "\u001b[K     |████████████████████████████████| 75 kB 4.3 MB/s \n",
            "\u001b[?25hCollecting python-editor>=0.3\n",
            "  Downloading python_editor-1.0.4-py3-none-any.whl (4.9 kB)\n",
            "Collecting pbr!=2.1.0,>=2.0.0\n",
            "  Downloading pbr-5.6.0-py2.py3-none-any.whl (111 kB)\n",
            "\u001b[K     |████████████████████████████████| 111 kB 39.5 MB/s \n",
            "\u001b[?25hCollecting cmd2>=1.0.0\n",
            "  Downloading cmd2-2.1.2-py3-none-any.whl (141 kB)\n",
            "\u001b[K     |████████████████████████████████| 141 kB 80.5 MB/s \n",
            "\u001b[?25hRequirement already satisfied: PrettyTable>=0.7.2 in /usr/local/lib/python3.7/dist-packages (from cliff->optuna==2.4.0->-r requirements.txt (line 3)) (2.1.0)\n",
            "Collecting stevedore>=2.0.1\n",
            "  Downloading stevedore-3.4.0-py3-none-any.whl (49 kB)\n",
            "\u001b[K     |████████████████████████████████| 49 kB 5.3 MB/s \n",
            "\u001b[?25hCollecting autopage>=0.4.0\n",
            "  Downloading autopage-0.4.0-py3-none-any.whl (20 kB)\n",
            "Collecting pyperclip>=1.6\n",
            "  Downloading pyperclip-1.8.2.tar.gz (20 kB)\n",
            "Collecting colorama>=0.3.7\n",
            "  Downloading colorama-0.4.4-py2.py3-none-any.whl (16 kB)\n",
            "Requirement already satisfied: attrs>=16.3.0 in /usr/local/lib/python3.7/dist-packages (from cmd2>=1.0.0->cliff->optuna==2.4.0->-r requirements.txt (line 3)) (21.2.0)\n",
            "Requirement already satisfied: wcwidth>=0.1.7 in /usr/local/lib/python3.7/dist-packages (from cmd2>=1.0.0->cliff->optuna==2.4.0->-r requirements.txt (line 3)) (0.2.5)\n",
            "Requirement already satisfied: zipp>=0.5 in /usr/local/lib/python3.7/dist-packages (from importlib-metadata->sqlalchemy>=1.1.0->optuna==2.4.0->-r requirements.txt (line 3)) (3.5.0)\n",
            "Collecting pycodestyle<2.8.0,>=2.7.0\n",
            "  Downloading pycodestyle-2.7.0-py2.py3-none-any.whl (41 kB)\n",
            "\u001b[K     |████████████████████████████████| 41 kB 481 kB/s \n",
            "\u001b[?25hCollecting pyflakes<2.4.0,>=2.3.0\n",
            "  Downloading pyflakes-2.3.1-py2.py3-none-any.whl (68 kB)\n",
            "\u001b[K     |████████████████████████████████| 68 kB 5.9 MB/s \n",
            "\u001b[?25hCollecting mccabe<0.7.0,>=0.6.0\n",
            "  Downloading mccabe-0.6.1-py2.py3-none-any.whl (8.6 kB)\n",
            "Requirement already satisfied: smart-open>=1.2.1 in /usr/local/lib/python3.7/dist-packages (from gensim->cogdl==0.2.0.post1->-r requirements.txt (line 7)) (5.1.0)\n",
            "Requirement already satisfied: MarkupSafe>=0.9.2 in /usr/local/lib/python3.7/dist-packages (from Mako->alembic->optuna==2.4.0->-r requirements.txt (line 3)) (2.0.1)\n",
            "Requirement already satisfied: kiwisolver>=1.0.1 in /usr/local/lib/python3.7/dist-packages (from matplotlib->cogdl==0.2.0.post1->-r requirements.txt (line 7)) (1.3.1)\n",
            "Requirement already satisfied: cycler>=0.10 in /usr/local/lib/python3.7/dist-packages (from matplotlib->cogdl==0.2.0.post1->-r requirements.txt (line 7)) (0.10.0)\n",
            "Requirement already satisfied: setuptools in /usr/local/lib/python3.7/dist-packages (from numba->cogdl==0.2.0.post1->-r requirements.txt (line 7)) (57.4.0)\n",
            "Requirement already satisfied: llvmlite<0.35,>=0.34.0.dev0 in /usr/local/lib/python3.7/dist-packages (from numba->cogdl==0.2.0.post1->-r requirements.txt (line 7)) (0.34.0)\n",
            "Collecting cfgv>=2.0.0\n",
            "  Downloading cfgv-3.3.0-py2.py3-none-any.whl (7.3 kB)\n",
            "Collecting identify>=1.0.0\n",
            "  Downloading identify-2.2.13-py2.py3-none-any.whl (98 kB)\n",
            "\u001b[K     |████████████████████████████████| 98 kB 7.0 MB/s \n",
            "\u001b[?25hCollecting nodeenv>=0.11.1\n",
            "  Downloading nodeenv-1.6.0-py2.py3-none-any.whl (21 kB)\n",
            "Requirement already satisfied: toml in /usr/local/lib/python3.7/dist-packages (from pre-commit->cogdl==0.2.0.post1->-r requirements.txt (line 7)) (0.10.2)\n",
            "Collecting virtualenv>=20.0.8\n",
            "  Downloading virtualenv-20.7.2-py2.py3-none-any.whl (5.3 MB)\n",
            "\u001b[K     |████████████████████████████████| 5.3 MB 46.0 MB/s \n",
            "\u001b[?25hCollecting backports.entry-points-selectable>=1.0.4\n",
            "  Downloading backports.entry_points_selectable-1.1.0-py2.py3-none-any.whl (6.2 kB)\n",
            "Collecting platformdirs<3,>=2\n",
            "  Downloading platformdirs-2.2.0-py3-none-any.whl (13 kB)\n",
            "Requirement already satisfied: filelock<4,>=3.0.0 in /usr/local/lib/python3.7/dist-packages (from virtualenv>=20.0.8->pre-commit->cogdl==0.2.0.post1->-r requirements.txt (line 7)) (3.0.12)\n",
            "Collecting distlib<1,>=0.3.1\n",
            "  Downloading distlib-0.3.2-py2.py3-none-any.whl (338 kB)\n",
            "\u001b[K     |████████████████████████████████| 338 kB 49.3 MB/s \n",
            "\u001b[?25hCollecting prompt_toolkit==1.0.14\n",
            "  Downloading prompt_toolkit-1.0.14-py3-none-any.whl (248 kB)\n",
            "\u001b[K     |████████████████████████████████| 248 kB 60.8 MB/s \n",
            "\u001b[?25hRequirement already satisfied: Pygments>=2.2.0 in /usr/local/lib/python3.7/dist-packages (from pyinquirer->cogdl==0.2.0.post1->-r requirements.txt (line 7)) (2.6.1)\n",
            "Requirement already satisfied: regex>=2016.11.21 in /usr/local/lib/python3.7/dist-packages (from pyinquirer->cogdl==0.2.0.post1->-r requirements.txt (line 7)) (2019.12.20)\n",
            "Collecting tokenizers<0.11,>=0.10.1\n",
            "  Downloading tokenizers-0.10.3-cp37-cp37m-manylinux_2_5_x86_64.manylinux1_x86_64.manylinux_2_12_x86_64.manylinux2010_x86_64.whl (3.3 MB)\n",
            "\u001b[K     |████████████████████████████████| 3.3 MB 54.2 MB/s \n",
            "\u001b[?25hCollecting huggingface-hub==0.0.12\n",
            "  Downloading huggingface_hub-0.0.12-py3-none-any.whl (37 kB)\n",
            "Collecting sacremoses\n",
            "  Downloading sacremoses-0.0.45-py3-none-any.whl (895 kB)\n",
            "\u001b[K     |████████████████████████████████| 895 kB 47.3 MB/s \n",
            "\u001b[?25hRequirement already satisfied: click in /usr/local/lib/python3.7/dist-packages (from sacremoses->transformers->cogdl==0.2.0.post1->-r requirements.txt (line 7)) (7.1.2)\n",
            "Building wheels for collected packages: pyperclip, emoji, littleutils, pyinquirer\n",
            "  Building wheel for pyperclip (setup.py) ... \u001b[?25l\u001b[?25hdone\n",
            "  Created wheel for pyperclip: filename=pyperclip-1.8.2-py3-none-any.whl size=11136 sha256=09bc769e92a51040b167361949d6719ee60415dffa5dc8b7c04ad45c89b16f96\n",
            "  Stored in directory: /root/.cache/pip/wheels/9f/18/84/8f69f8b08169c7bae2dde6bd7daf0c19fca8c8e500ee620a28\n",
            "  Building wheel for emoji (setup.py) ... \u001b[?25l\u001b[?25hdone\n",
            "  Created wheel for emoji: filename=emoji-1.4.2-py3-none-any.whl size=186469 sha256=44e873a7a5ea25d81efce74d48ca2afdcab6575e2675dc424632f83702fdb20b\n",
            "  Stored in directory: /root/.cache/pip/wheels/e4/61/e7/2fc1ac8f306848fc66c6c013ab511f0a39ef4b1825b11363b2\n",
            "  Building wheel for littleutils (setup.py) ... \u001b[?25l\u001b[?25hdone\n",
            "  Created wheel for littleutils: filename=littleutils-0.2.2-py3-none-any.whl size=7048 sha256=804bdeaf44c74f9a2640344b8d581e6e0f190b93a37c1c4783b962924506236d\n",
            "  Stored in directory: /root/.cache/pip/wheels/d6/64/cd/32819b511a488e4993f2fab909a95330289c3f4e0f6ef4676d\n",
            "  Building wheel for pyinquirer (setup.py) ... \u001b[?25l\u001b[?25hdone\n",
            "  Created wheel for pyinquirer: filename=PyInquirer-1.0.3-py3-none-any.whl size=32863 sha256=a25a7bff9e0d37a596503f55fd352f4b6bdbf608da84a3015ec5b09eb74de3d2\n",
            "  Stored in directory: /root/.cache/pip/wheels/89/3b/7b/8b3cc8ac47137eabaeb6937a3ff0d33e78a12e2ba1e3ad4ba1\n",
            "Successfully built pyperclip emoji littleutils pyinquirer\n",
            "Installing collected packages: pyperclip, pbr, numpy, colorama, tqdm, threadpoolctl, stevedore, scipy, PyYAML, python-editor, platformdirs, Mako, littleutils, distlib, cmd2, backports.entry-points-selectable, autopage, virtualenv, torch, tokenizers, scikit-learn, sacremoses, pyflakes, pycodestyle, prompt-toolkit, outdated, nodeenv, mccabe, identify, huggingface-hub, colorlog, cmaes, cliff, cfgv, alembic, transformers, texttable, tabulate, pyinquirer, pre-commit, optuna, ogb, networkx, grave, flake8, emoji, dgl-cu100, dgl, cogdl\n",
            "  Attempting uninstall: numpy\n",
            "    Found existing installation: numpy 1.19.5\n",
            "    Uninstalling numpy-1.19.5:\n",
            "      Successfully uninstalled numpy-1.19.5\n",
            "  Attempting uninstall: tqdm\n",
            "    Found existing installation: tqdm 4.62.0\n",
            "    Uninstalling tqdm-4.62.0:\n",
            "      Successfully uninstalled tqdm-4.62.0\n",
            "  Attempting uninstall: scipy\n",
            "    Found existing installation: scipy 1.4.1\n",
            "    Uninstalling scipy-1.4.1:\n",
            "      Successfully uninstalled scipy-1.4.1\n",
            "  Attempting uninstall: PyYAML\n",
            "    Found existing installation: PyYAML 3.13\n",
            "    Uninstalling PyYAML-3.13:\n",
            "      Successfully uninstalled PyYAML-3.13\n",
            "  Attempting uninstall: torch\n",
            "    Found existing installation: torch 1.9.0+cu102\n",
            "    Uninstalling torch-1.9.0+cu102:\n",
            "      Successfully uninstalled torch-1.9.0+cu102\n",
            "  Attempting uninstall: scikit-learn\n",
            "    Found existing installation: scikit-learn 0.22.2.post1\n",
            "    Uninstalling scikit-learn-0.22.2.post1:\n",
            "      Successfully uninstalled scikit-learn-0.22.2.post1\n",
            "  Attempting uninstall: prompt-toolkit\n",
            "    Found existing installation: prompt-toolkit 1.0.18\n",
            "    Uninstalling prompt-toolkit-1.0.18:\n",
            "      Successfully uninstalled prompt-toolkit-1.0.18\n",
            "  Attempting uninstall: tabulate\n",
            "    Found existing installation: tabulate 0.8.9\n",
            "    Uninstalling tabulate-0.8.9:\n",
            "      Successfully uninstalled tabulate-0.8.9\n",
            "  Attempting uninstall: networkx\n",
            "    Found existing installation: networkx 2.6.2\n",
            "    Uninstalling networkx-2.6.2:\n",
            "      Successfully uninstalled networkx-2.6.2\n",
            "\u001b[31mERROR: pip's dependency resolver does not currently take into account all the packages that are installed. This behaviour is the source of the following dependency conflicts.\n",
            "torchvision 0.10.0+cu102 requires torch==1.9.0, but you have torch 1.7.1 which is incompatible.\n",
            "torchtext 0.10.0 requires torch==1.9.0, but you have torch 1.7.1 which is incompatible.\n",
            "datascience 0.10.6 requires folium==0.2.1, but you have folium 0.8.3 which is incompatible.\n",
            "albumentations 0.1.12 requires imgaug<0.2.7,>=0.2.5, but you have imgaug 0.2.9 which is incompatible.\u001b[0m\n",
            "Successfully installed Mako-1.1.5 PyYAML-5.4.1 alembic-1.6.5 autopage-0.4.0 backports.entry-points-selectable-1.1.0 cfgv-3.3.0 cliff-3.9.0 cmaes-0.8.2 cmd2-2.1.2 cogdl-0.2.0.post1 colorama-0.4.4 colorlog-6.4.1 dgl-0.6.0 dgl-cu100-0.5.2 distlib-0.3.2 emoji-1.4.2 flake8-3.9.2 grave-0.0.3 huggingface-hub-0.0.12 identify-2.2.13 littleutils-0.2.2 mccabe-0.6.1 networkx-2.5 nodeenv-1.6.0 numpy-1.19.2 ogb-1.2.6 optuna-2.4.0 outdated-0.2.1 pbr-5.6.0 platformdirs-2.2.0 pre-commit-2.14.0 prompt-toolkit-1.0.14 pycodestyle-2.7.0 pyflakes-2.3.1 pyinquirer-1.0.3 pyperclip-1.8.2 python-editor-1.0.4 sacremoses-0.0.45 scikit-learn-0.24.1 scipy-1.5.2 stevedore-3.4.0 tabulate-0.8.7 texttable-1.6.4 threadpoolctl-2.2.0 tokenizers-0.10.3 torch-1.7.1 tqdm-4.51.0 transformers-4.9.2 virtualenv-20.7.2\n"
          ],
          "name": "stdout"
        },
        {
          "output_type": "display_data",
          "data": {
            "application/vnd.colab-display-data+json": {
              "pip_warning": {
                "packages": [
                  "numpy",
                  "prompt_toolkit"
                ]
              }
            }
          },
          "metadata": {}
        }
      ]
    },
    {
      "cell_type": "code",
      "metadata": {
        "colab": {
          "base_uri": "https://localhost:8080/"
        },
        "id": "F_tGww17OQiR",
        "outputId": "7a23a50f-3ba4-4897-cdc7-d067a93ad1db"
      },
      "source": [
        "!pip install dgllife"
      ],
      "execution_count": null,
      "outputs": [
        {
          "output_type": "stream",
          "text": [
            "Collecting dgllife\n",
            "  Downloading dgllife-0.2.8.tar.gz (133 kB)\n",
            "\u001b[?25l\r\u001b[K     |██▌                             | 10 kB 22.7 MB/s eta 0:00:01\r\u001b[K     |█████                           | 20 kB 30.3 MB/s eta 0:00:01\r\u001b[K     |███████▍                        | 30 kB 31.4 MB/s eta 0:00:01\r\u001b[K     |█████████▉                      | 40 kB 31.8 MB/s eta 0:00:01\r\u001b[K     |████████████▎                   | 51 kB 34.6 MB/s eta 0:00:01\r\u001b[K     |██████████████▊                 | 61 kB 25.5 MB/s eta 0:00:01\r\u001b[K     |█████████████████▏              | 71 kB 26.2 MB/s eta 0:00:01\r\u001b[K     |███████████████████▋            | 81 kB 27.7 MB/s eta 0:00:01\r\u001b[K     |██████████████████████          | 92 kB 29.5 MB/s eta 0:00:01\r\u001b[K     |████████████████████████▌       | 102 kB 31.4 MB/s eta 0:00:01\r\u001b[K     |███████████████████████████     | 112 kB 31.4 MB/s eta 0:00:01\r\u001b[K     |█████████████████████████████▍  | 122 kB 31.4 MB/s eta 0:00:01\r\u001b[K     |███████████████████████████████▉| 133 kB 31.4 MB/s eta 0:00:01\r\u001b[K     |████████████████████████████████| 133 kB 31.4 MB/s \n",
            "\u001b[?25hRequirement already satisfied: scikit-learn>=0.22.2 in /usr/local/lib/python3.7/dist-packages (from dgllife) (0.24.1)\n",
            "Requirement already satisfied: pandas in /usr/local/lib/python3.7/dist-packages (from dgllife) (1.1.5)\n",
            "Requirement already satisfied: requests>=2.22.0 in /usr/local/lib/python3.7/dist-packages (from dgllife) (2.23.0)\n",
            "Requirement already satisfied: tqdm in /usr/local/lib/python3.7/dist-packages (from dgllife) (4.51.0)\n",
            "Requirement already satisfied: numpy>=1.14.0 in /usr/local/lib/python3.7/dist-packages (from dgllife) (1.19.2)\n",
            "Requirement already satisfied: scipy>=1.1.0 in /usr/local/lib/python3.7/dist-packages (from dgllife) (1.5.2)\n",
            "Requirement already satisfied: networkx>=2.1 in /usr/local/lib/python3.7/dist-packages (from dgllife) (2.5)\n",
            "Requirement already satisfied: hyperopt in /usr/local/lib/python3.7/dist-packages (from dgllife) (0.1.2)\n",
            "Requirement already satisfied: joblib in /usr/local/lib/python3.7/dist-packages (from dgllife) (1.0.1)\n",
            "Requirement already satisfied: decorator>=4.3.0 in /usr/local/lib/python3.7/dist-packages (from networkx>=2.1->dgllife) (4.4.2)\n",
            "Requirement already satisfied: urllib3!=1.25.0,!=1.25.1,<1.26,>=1.21.1 in /usr/local/lib/python3.7/dist-packages (from requests>=2.22.0->dgllife) (1.24.3)\n",
            "Requirement already satisfied: chardet<4,>=3.0.2 in /usr/local/lib/python3.7/dist-packages (from requests>=2.22.0->dgllife) (3.0.4)\n",
            "Requirement already satisfied: idna<3,>=2.5 in /usr/local/lib/python3.7/dist-packages (from requests>=2.22.0->dgllife) (2.10)\n",
            "Requirement already satisfied: certifi>=2017.4.17 in /usr/local/lib/python3.7/dist-packages (from requests>=2.22.0->dgllife) (2021.5.30)\n",
            "Requirement already satisfied: threadpoolctl>=2.0.0 in /usr/local/lib/python3.7/dist-packages (from scikit-learn>=0.22.2->dgllife) (2.2.0)\n",
            "Requirement already satisfied: future in /usr/local/lib/python3.7/dist-packages (from hyperopt->dgllife) (0.16.0)\n",
            "Requirement already satisfied: pymongo in /usr/local/lib/python3.7/dist-packages (from hyperopt->dgllife) (3.12.0)\n",
            "Requirement already satisfied: six in /usr/local/lib/python3.7/dist-packages (from hyperopt->dgllife) (1.15.0)\n",
            "Requirement already satisfied: python-dateutil>=2.7.3 in /usr/local/lib/python3.7/dist-packages (from pandas->dgllife) (2.8.2)\n",
            "Requirement already satisfied: pytz>=2017.2 in /usr/local/lib/python3.7/dist-packages (from pandas->dgllife) (2018.9)\n",
            "Building wheels for collected packages: dgllife\n",
            "  Building wheel for dgllife (setup.py) ... \u001b[?25l\u001b[?25hdone\n",
            "  Created wheel for dgllife: filename=dgllife-0.2.8-py3-none-any.whl size=213162 sha256=fb65066eebcf1d7ee5aa19b1e2982d7d5d8ea73565989445701c161597126a77\n",
            "  Stored in directory: /root/.cache/pip/wheels/b6/81/6f/6bbc4b7a80b06d92829b5362a78277173c9e7b46d294d4ca45\n",
            "Successfully built dgllife\n",
            "Installing collected packages: dgllife\n",
            "Successfully installed dgllife-0.2.8\n"
          ],
          "name": "stdout"
        }
      ]
    },
    {
      "cell_type": "code",
      "metadata": {
        "id": "B-7DnP4QWuwb"
      },
      "source": [
        "import dgl\n",
        "import torch\n",
        "import numpy as np"
      ],
      "execution_count": null,
      "outputs": []
    },
    {
      "cell_type": "code",
      "metadata": {
        "id": "i7TxTfP7Lm76"
      },
      "source": [
        "from rdkit import Chem\n",
        "from dgllife.utils import load_molecule , mol_to_bigraph, get_mol_3d_coordinates, mol_to_complete_graph, smiles_to_bigraph\n",
        "from dgllife.utils import analyze_mols, ConcatFeaturizer, atomic_number, bond_type_one_hot\n",
        "import networkx as nx\n",
        "import matplotlib.pyplot as plt"
      ],
      "execution_count": null,
      "outputs": []
    },
    {
      "cell_type": "code",
      "metadata": {
        "id": "JzGF3WXyKThq"
      },
      "source": [
        "mol, coordinates = load_molecule('/content/drive/MyDrive/235789_Samsung AI Challenge for Scientific Discovery_data/dev_sdf/dev_0.sdf',sanitize=True,calc_charges=True,use_conformation=True)"
      ],
      "execution_count": null,
      "outputs": []
    },
    {
      "cell_type": "code",
      "metadata": {
        "id": "QR_A1Um2kUGc"
      },
      "source": [
        "mol.UpdatePropertyCache()"
      ],
      "execution_count": null,
      "outputs": []
    },
    {
      "cell_type": "code",
      "metadata": {
        "id": "1smtgd-xSarZ"
      },
      "source": [
        "def featurize_atoms(mol):\n",
        "    feats = []\n",
        "    for atom in mol.GetAtoms():\n",
        "        feats.append(atomic_number(atom))\n",
        "    return {'atomic': torch.tensor(feats).reshape(-1, 1).float()}"
      ],
      "execution_count": null,
      "outputs": []
    },
    {
      "cell_type": "code",
      "metadata": {
        "id": "oMF4hy-z7VIL"
      },
      "source": [
        "def featurize_bonds(mol):\n",
        "    feats = []\n",
        "    bond_types = [Chem.rdchem.BondType.SINGLE, Chem.rdchem.BondType.DOUBLE,\n",
        "                  Chem.rdchem.BondType.TRIPLE, Chem.rdchem.BondType.AROMATIC]\n",
        "    for bond in mol.GetBonds():\n",
        "         btype = bond_types.index(bond.GetBondType())\n",
        "         # One bond between atom u and v corresponds to two edges (u, v) and (v, u)\n",
        "         feats.extend([btype, btype])\n",
        "    return {'type': torch.tensor(feats).reshape(-1, 1).float()}"
      ],
      "execution_count": null,
      "outputs": []
    },
    {
      "cell_type": "code",
      "metadata": {
        "id": "QcJowVQVhLum"
      },
      "source": [
        "dgl_gph = mol_to_bigraph(mol,canonical_atom_order = True, explicit_hydrogens=True ,node_featurizer=featurize_atoms, edge_featurizer=featurize_bonds)"
      ],
      "execution_count": null,
      "outputs": []
    },
    {
      "cell_type": "code",
      "metadata": {
        "colab": {
          "base_uri": "https://localhost:8080/",
          "height": 319
        },
        "id": "7w-QjdEfh0Ee",
        "outputId": "e75d1d6b-afda-4d57-de59-ec073d5691f0"
      },
      "source": [
        "nx_G = dgl_gph.to_networkx().to_undirected()\n",
        "pos = nx.layout.kamada_kawai_layout(nx_G)\n",
        "nx.draw(nx_G, pos, with_labels=True, node_color=[[.7, .7, .7]])"
      ],
      "execution_count": null,
      "outputs": [
        {
          "output_type": "display_data",
          "data": {
            "image/png": "[encoded data removed]",
            "text/plain": [
              "<Figure size 432x288 with 1 Axes>"
            ]
          },
          "metadata": {}
        }
      ]
    },
    {
      "cell_type": "code",
      "metadata": {
        "id": "jRRhIVZf31rW"
      },
      "source": [
        "data = np.load('/content/CPF/data/npz/cora.npz')"
      ],
      "execution_count": null,
      "outputs": []
    },
    {
      "cell_type": "code",
      "metadata": {
        "colab": {
          "base_uri": "https://localhost:8080/"
        },
        "id": "99DoE7C94Ckh",
        "outputId": "b601142b-b102-4258-828f-88fc67d1d526"
      },
      "source": [
        "data.files"
      ],
      "execution_count": null,
      "outputs": [
        {
          "output_type": "execute_result",
          "data": {
            "text/plain": [
              "['adj_data',\n",
              " 'adj_indices',\n",
              " 'adj_indptr',\n",
              " 'adj_shape',\n",
              " 'attr_data',\n",
              " 'attr_indices',\n",
              " 'attr_indptr',\n",
              " 'attr_shape',\n",
              " 'labels',\n",
              " 'node_names',\n",
              " 'class_names']"
            ]
          },
          "metadata": {},
          "execution_count": 35
        }
      ]
    },
    {
      "cell_type": "code",
      "metadata": {
        "colab": {
          "base_uri": "https://localhost:8080/"
        },
        "id": "nToVaMHP5fA2",
        "outputId": "0dd0e77a-d253-4490-acc6-8806c0ce94fa"
      },
      "source": [
        "data['attr_data']"
      ],
      "execution_count": null,
      "outputs": [
        {
          "output_type": "execute_result",
          "data": {
            "text/plain": [
              "array([1., 1., 1., ..., 1., 1., 1.], dtype=float32)"
            ]
          },
          "metadata": {},
          "execution_count": 39
        }
      ]
    }
  ]
}