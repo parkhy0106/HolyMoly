{
  "cells": [
    {
      "cell_type": "markdown",
      "metadata": {
        "id": "view-in-github",
        "colab_type": "text"
      },
      "source": [
        "<a href=\"https://colab.research.google.com/github/parkhy0106/HolyMoly/blob/master/%EB%8B%A8%20%ED%95%9C%20%EC%82%AC%EB%9E%8C%EC%9D%84%20%EC%9C%84%ED%97%8C%20%EC%84%9C%EB%A6%AC%20%EC%8B%9C%EB%AE%AC%EB%A0%88%EC%9D%B4%EC%85%98.ipynb\" target=\"_parent\"><img src=\"https://colab.research.google.com/assets/colab-badge.svg\" alt=\"Open In Colab\"/></a>"
      ]
    },
    {
      "cell_type": "markdown",
      "source": [
        "# 환경 설정 및 매개변수 선언\n",
        "\n"
      ],
      "metadata": {
        "id": "Hw8Q6r97LN2J"
      }
    },
    {
      "cell_type": "code",
      "source": [
        "ls"
      ],
      "metadata": {
        "id": "h6y51NUqLbNz",
        "outputId": "694cc680-c147-4367-8fb3-b98b07ae6ee9",
        "colab": {
          "base_uri": "https://localhost:8080/"
        }
      },
      "execution_count": 1,
      "outputs": [
        {
          "output_type": "stream",
          "name": "stdout",
          "text": [
            "blurred_normalmap.png  raw_img.png   vis_high_contrast.png\n",
            "\u001b[0m\u001b[01;34mdepth-from-normals\u001b[0m/    \u001b[01;34msample_data\u001b[0m/  vis_low_contrast.png\n"
          ]
        }
      ]
    },
    {
      "cell_type": "code",
      "execution_count": 2,
      "metadata": {
        "id": "i3gI5j2uqe38"
      },
      "outputs": [],
      "source": [
        "import cv2\n",
        "import matplotlib.pyplot as plt\n",
        "import copy\n",
        "import numpy as np\n",
        "from google.colab.patches import cv2_imshow\n",
        "import json\n",
        "\n",
        "from PIL import Image as PilImage\n",
        "import tempfile\n",
        "from tqdm.auto import tqdm\n",
        "import warnings"
      ]
    },
    {
      "cell_type": "code",
      "execution_count": 3,
      "metadata": {
        "id": "_sOHvKcArvKC"
      },
      "outputs": [],
      "source": [
        "from math import pi, sin, cos, sqrt\n",
        "DEGREES_TO_RADIANS = pi / 180"
      ]
    },
    {
      "cell_type": "code",
      "execution_count": 4,
      "metadata": {
        "id": "Q0YfZvdcvGDv"
      },
      "outputs": [],
      "source": [
        "test_x, test_y = [], []"
      ]
    },
    {
      "cell_type": "markdown",
      "metadata": {
        "id": "6v2LOBHQreq6"
      },
      "source": [
        "Cartesian Plotting\n",
        "To draw fractals, first we need to be able to draw lines.\n"
      ]
    },
    {
      "cell_type": "code",
      "execution_count": 5,
      "metadata": {
        "id": "PsliVWLDrkzD"
      },
      "outputs": [],
      "source": [
        "%matplotlib inline\n",
        "import matplotlib.pyplot as plt\n",
        "plt.style.use('bmh')  # Use some nicer default colors"
      ]
    },
    {
      "cell_type": "code",
      "execution_count": 6,
      "metadata": {
        "id": "BslGz8s1rrEe"
      },
      "outputs": [],
      "source": [
        "def plot_coords(coords, bare_plot=False):\n",
        "    # Converts a list of coordinates into\n",
        "    # lists of X and Y values, respectively.\n",
        "    X, Y = zip(*coords)\n",
        "    # Draws the plot.\n",
        "    test_x = copy.deepcopy(X)\n",
        "    test_y = copy.deepcopy(Y)\n",
        "    return X, Y"
      ]
    },
    {
      "cell_type": "code",
      "execution_count": 7,
      "metadata": {
        "id": "miTq847Yruq7"
      },
      "outputs": [],
      "source": [
        "def branching_to_coords(turtle_program, turn_amount=45):\n",
        "    saved_states = list()\n",
        "    state = (0, 0, 90)\n",
        "    yield (0, 0)\n",
        "\n",
        "    for command in tqdm(turtle_program):\n",
        "        x, y, angle = state\n",
        "\n",
        "        if command.lower() in 'abcdefghij':        # Move forward (matches a-j and A-J)\n",
        "            state = (x - cos(angle * DEGREES_TO_RADIANS),\n",
        "                     y + sin(angle * DEGREES_TO_RADIANS),\n",
        "                     angle)\n",
        "\n",
        "            if command.islower():                  # Add a break in the line if command matches a-j\n",
        "                yield (float('nan'), float('nan'))\n",
        "\n",
        "            yield (state[0], state[1])\n",
        "\n",
        "        elif command == '+':                       # Turn clockwise\n",
        "            state = (x, y, angle + turn_amount)\n",
        "\n",
        "        elif command == '-':                       # Turn counterclockwise\n",
        "            state = (x, y, angle - turn_amount)\n",
        "\n",
        "        elif command == '[':                       # Remember current state\n",
        "            saved_states.append(state)\n",
        "\n",
        "        elif command == ']':                       # Return to previous state\n",
        "            state = saved_states.pop()\n",
        "            yield (float('nan'), float('nan'))\n",
        "            x, y, _ = state\n",
        "            yield (x, y)\n",
        "\n",
        "        # Note: We silently ignore unknown commands"
      ]
    },
    {
      "cell_type": "code",
      "execution_count": 8,
      "metadata": {
        "id": "Cy8SavLYr67v"
      },
      "outputs": [],
      "source": [
        "def l_plot(axiom, transformations, iterations=0, angle=45):\n",
        "    turtle_program = transform_multiple(axiom, transformations, iterations)\n",
        "    coords = branching_to_coords(turtle_program, angle)\n",
        "    return plot_coords(coords, bare_plot=False) # bare_plot removes the axis labels"
      ]
    },
    {
      "cell_type": "code",
      "execution_count": 9,
      "metadata": {
        "colab": {
          "base_uri": "https://localhost:8080/",
          "height": 35
        },
        "id": "IhxaUIn6sN0o",
        "outputId": "b6bbec0f-5057-46c8-85fd-5a43515738d5"
      },
      "outputs": [
        {
          "output_type": "execute_result",
          "data": {
            "text/plain": [
              "'ababbabab'"
            ],
            "application/vnd.google.colaboratory.intrinsic+json": {
              "type": "string"
            }
          },
          "metadata": {},
          "execution_count": 9
        }
      ],
      "source": [
        "def transform_sequence(sequence, transformations):\n",
        "    return ''.join(transformations.get(c, c) for c in sequence)\n",
        "\n",
        "transform_sequence('acab', {'a': 'aba', 'c': 'bb'})"
      ]
    },
    {
      "cell_type": "code",
      "execution_count": 10,
      "metadata": {
        "colab": {
          "base_uri": "https://localhost:8080/"
        },
        "id": "SWK7FblesJn7",
        "outputId": "638554ab-7d66-4d1f-d058-2088a904bbda"
      },
      "outputs": [
        {
          "output_type": "stream",
          "name": "stdout",
          "text": [
            "0: abba\n",
            "1: ababbaba\n",
            "2: ababababbabababa\n"
          ]
        }
      ],
      "source": [
        "def transform_multiple(sequence, transformations, iterations):\n",
        "    for _ in range(iterations):\n",
        "        sequence = transform_sequence(sequence, transformations)\n",
        "    return sequence\n",
        "\n",
        "print('0:', transform_multiple('abba', {'b': 'bab'}, 0))\n",
        "print('1:', transform_multiple('abba', {'b': 'bab'}, 1))\n",
        "print('2:', transform_multiple('abba', {'b': 'bab'}, 2))"
      ]
    },
    {
      "cell_type": "markdown",
      "source": [
        "# 서리 만들기"
      ],
      "metadata": {
        "id": "MoKs7ZRQLv8-"
      }
    },
    {
      "cell_type": "markdown",
      "metadata": {
        "id": "Jsi7un39sZiN"
      },
      "source": [
        "패턴의 생성 규칙은 다음과 같습니다"
      ]
    },
    {
      "cell_type": "markdown",
      "metadata": {
        "id": "gksfnYD6w0rM"
      },
      "source": [
        "\n",
        "*   '+': 시계방향 회전\n",
        "*   '-': 반시계방향 회전\n",
        "*   '[': 현재 분기에서 재시작\n",
        "*   ']': 과거 분기로 돌아가기\n",
        "*   소문자 입력은 선 긋기 없이 이동\n",
        "*   대문자 입력은 선 그으며 이동\n",
        "\n",
        "\n",
        "(레터링이 필요한 이유는 문양마다 회귀를 부여해야해서... 스파게티 코드가 되어버렸어요...)\n",
        "\n",
        "(그래서 일단은 참치님이 필요로 하시는 문양을 기본으로 입력해뒀어요. 조금씩 수정해보면서 모양을 찾아보세요.)"
      ]
    },
    {
      "cell_type": "markdown",
      "source": [
        "##프렉탈 구조 생성"
      ],
      "metadata": {
        "id": "FclBcQokPpE8"
      }
    },
    {
      "cell_type": "code",
      "source": [
        "#@title 프렉탈 구조 생성 변수\n",
        "#@markdown ###...........................프렉탈 구조 생성...........................#\n",
        "#@markdown #\n",
        "lettering = \"F\" #@param {type: \"string\"}\n",
        "#@markdown 서리를 만들기 위한 프렉탈 생성 코드입니다(참치님이 바라는 프렉탈 방향을 일단 넣어놨습니다)\n",
        "fractal_pattern = \"{'F': '+-FF[+++F][-FF]'}\" #@param {type:\"string\"}\n",
        "res = eval(fractal_pattern)\n",
        "#@markdown 프렉탈 차원수(높을수록 더 정교한 무늬를 만들지만 계산이 오래 걸려요)\n",
        "fractal_dimension = 10 #@param {type:\"slider\", min:1, max:9, step:1}\n",
        "#@markdown 회전 각도\n",
        "angle = 23 #@param {type:\"slider\", min:1, max:150, step:1}\n",
        "#@markdown #\n",
        "#@markdown ##...........................시각화...........................#\n",
        "#@markdown 가장 두꺼운 부분의 두께(px)\n",
        "main = 3 #@param {type:\"slider\", min:1, max:10, step:1}\n",
        "#@markdown 중간 마디 부분의 두께(px)\n",
        "sub = 2 #@param {type:\"slider\", min:1, max:10, step:1}\n",
        "#@markdown 끝마디 부분의 두께(px)\n",
        "sting = 1 #@param {type:\"slider\", min:1, max:10, step:1}"
      ],
      "metadata": {
        "cellView": "form",
        "id": "6WJO81RbMPRh"
      },
      "execution_count": 11,
      "outputs": []
    },
    {
      "cell_type": "code",
      "execution_count": null,
      "metadata": {
        "colab": {
          "base_uri": "https://localhost:8080/",
          "height": 99,
          "referenced_widgets": [
            "479b22d2d3464680a9d41698a9fdb8d2",
            "818444ec782142a8bfd6ff3c537f3978",
            "ff528fcc04d847d6b55ddeaa70cbd106",
            "c2ed70ca38754266ba120b3e8f4085ea",
            "3c34acb6c73642558332bd9086c7ee58",
            "9609693a80b04943ae2e3e6df88896a9",
            "bd22956d97c345a6bfb3bc4c87cbd89e",
            "ca8e4c45bc8b46128707ad9edf70ea8e",
            "68ff10f3d59d4003acb3195a7b3a796c",
            "fdd1a4681e094a10bce88eebc3b44a72",
            "58c2c29033f44bafb0b1bfb6674c3bc9",
            "3f4310cc0b2840eb949adda30802f663",
            "e50d3ff6a8a34015bfe5351f6549ef01",
            "d19503f01a08436db5533658a66e84dd",
            "c36b4ae3ca464d84815751b55a32d37d",
            "92db86b3742640d18f8e3307ab035077",
            "f169b659db454493b6ba6b1ec5eec086",
            "2d2dcd13dd724f24b882142eeac7e882",
            "2eed4b2c2f0e4224ab498a1e9910b674",
            "34005befb8734fbbb54b5713cda7c5ec",
            "ef3678b0744a4a50b9beeeac6e7579eb",
            "8bd6f869dd4e41558017d7aba35db4b8"
          ]
        },
        "id": "DPc4INGasBjL",
        "outputId": "7b091556-43e4-4b25-ec74-8bb825a5cbc0",
        "cellView": "form"
      },
      "outputs": [
        {
          "output_type": "display_data",
          "data": {
            "text/plain": [
              "  0%|          | 0/34179685 [00:00<?, ?it/s]"
            ],
            "application/vnd.jupyter.widget-view+json": {
              "version_major": 2,
              "version_minor": 0,
              "model_id": "479b22d2d3464680a9d41698a9fdb8d2"
            }
          },
          "metadata": {}
        },
        {
          "output_type": "stream",
          "name": "stdout",
          "text": [
            "이미지 크기 = 13348\n"
          ]
        },
        {
          "output_type": "display_data",
          "data": {
            "text/plain": [
              "0it [00:00, ?it/s]"
            ],
            "application/vnd.jupyter.widget-view+json": {
              "version_major": 2,
              "version_minor": 0,
              "model_id": "3f4310cc0b2840eb949adda30802f663"
            }
          },
          "metadata": {}
        }
      ],
      "source": [
        "#@title 생성하기(우클릭 하셔서 저장하시거나, 좌측에 vis_high_constrst, blurred_normalmap 다운로드 하셔도 돼요.)\n",
        "X, Y = l_plot(lettering, res, fractal_dimension, angle)\n",
        "fr_size = max(max(X),max(Y))\n",
        "print(f\"이미지 크기 = {int(fr_size*5)}\")\n",
        "fr_min = min(X)\n",
        "blank = np.full((int(fr_size*5),int(fr_size*5),3), 0, dtype=np.uint8)\n",
        "frame = copy.deepcopy(blank)\n",
        "frame2 = copy.deepcopy(blank)\n",
        "\n",
        "#@title dist map 작성\n",
        "tmp_x, tmp_y = 0, 0\n",
        "for x_ind, y_ind in tqdm(zip(X, Y)):\n",
        "  x_ind = x_ind - fr_min\n",
        "  try:\n",
        "    dx = ((int(fr_size*5) - tmp_x, int(fr_size*5) - tmp_y)[0] - (int(fr_size*5) - int(x_ind*5), int(fr_size*5) - int(y_ind*5))[0])\n",
        "    dy = ((int(fr_size*5) - tmp_x, int(fr_size*5) - tmp_y)[1] - (int(fr_size*5) - int(x_ind*5), int(fr_size*5) - int(y_ind*5))[1])\n",
        "    if sqrt(dx**2 + dy**2) > 20:\n",
        "      cv2.line(frame, (int(fr_size*5) - tmp_x, int(fr_size*5) - tmp_y), (int(fr_size*5) - int(x_ind*5), int(fr_size*5) - int(y_ind*5)), (255, 255, 255), thickness=main)\n",
        "    elif sqrt(dx**2 + dy**2) >10 :\n",
        "      cv2.line(frame, (int(fr_size*5) - tmp_x, int(fr_size*5) - tmp_y), (int(fr_size*5) - int(x_ind*5), int(fr_size*5) - int(y_ind*5)), (255, 255, 255), thickness=sub)\n",
        "    cv2.line(frame, (int(fr_size*5) - tmp_x, int(fr_size*5) - tmp_y), (int(fr_size*5) - int(x_ind*5), int(fr_size*5) - int(y_ind*5)), (255, 255, 255), thickness=sting)\n",
        "    tmp_x = int(x_ind*5)\n",
        "    tmp_y = int(y_ind*5)\n",
        "  except:\n",
        "    pass\n",
        "\n",
        "cv2.imwrite(\"raw_img.png\",frame)\n",
        "\n",
        "size = 3\n",
        "kernel = np.ones((size, size), np.float32) / (size ** 2)\n",
        "dst = cv2.filter2D(frame, -1, kernel)\n",
        "cv2.imwrite(\"blurred_normalmap.png\", dst)\n",
        "\n",
        "grey = cv2.cvtColor(dst, cv2.COLOR_BGR2GRAY)\n",
        "\n",
        "import cv2\n",
        "import numpy as np\n",
        "\n",
        "def get_surface_normal_by_depth(depth, K=None):\n",
        "    \"\"\"\n",
        "    depth: (h, w) of float, the unit of depth is meter\n",
        "    K: (3, 3) of float, the depth camere's intrinsic\n",
        "    \"\"\"\n",
        "    K = [[1, 0], [0, 1]] if K is None else K\n",
        "    fx, fy = K[0][0], K[1][1]\n",
        "\n",
        "    dz_dv, dz_du = np.gradient(depth)  # u, v mean the pixel coordinate in the image\n",
        "    # u*depth = fx*x + cx --> du/dx = fx / depth\n",
        "    du_dx = fx / depth  # x is xyz of camera coordinate\n",
        "    dv_dy = fy / depth\n",
        "\n",
        "    dz_dx = dz_du * du_dx\n",
        "    dz_dy = dz_dv * dv_dy\n",
        "    # cross-product (1,0,dz_dx)X(0,1,dz_dy) = (-dz_dx, -dz_dy, 1)\n",
        "    normal_cross = np.dstack((-dz_dx, -dz_dy, np.ones_like(depth)))\n",
        "    # normalize to unit vector\n",
        "    normal_unit = normal_cross / np.linalg.norm(normal_cross, axis=2, keepdims=True)\n",
        "    # set default normal to [0, 0, 1]\n",
        "    normal_unit[~np.isfinite(normal_unit).all(2)] = [0, 0, 1]\n",
        "    return normal_unit\n",
        "\n",
        "\n",
        "vis_normal = lambda normal: np.uint8((normal + 1) / 2 * 255)[..., ::-1]\n",
        "\n",
        "with warnings.catch_warnings():\n",
        "    warnings.simplefilter(\"ignore\")\n",
        "    normal1 = get_surface_normal_by_depth(grey)    #  spend time: 60ms\n",
        "\n",
        "cv2.imwrite(\"vis_low_contrast.png\", vis_normal(normal1))\n",
        "\n",
        "alpha = 2.0\n",
        "dst_frame = np.clip((1+alpha)*vis_normal(normal1) - 128*alpha, 0, 255).astype(np.uint8)\n",
        "\n",
        "cv2.imwrite(\"vis_high_contrast.png\", dst_frame)\n",
        "\n",
        "#@title Result\n",
        "cv2_imshow(dst)\n",
        "cv2_imshow(dst_frame)"
      ]
    }
  ],
  "metadata": {
    "colab": {
      "provenance": [],
      "authorship_tag": "ABX9TyMM4YSSrb0s9QeokeajF5Hb",
      "include_colab_link": true
    },
    "kernelspec": {
      "display_name": "Python 3",
      "name": "python3"
    },
    "language_info": {
      "name": "python"
    },
    "widgets": {
      "application/vnd.jupyter.widget-state+json": {
        "479b22d2d3464680a9d41698a9fdb8d2": {
          "model_module": "@jupyter-widgets/controls",
          "model_name": "HBoxModel",
          "model_module_version": "1.5.0",
          "state": {
            "_dom_classes": [],
            "_model_module": "@jupyter-widgets/controls",
            "_model_module_version": "1.5.0",
            "_model_name": "HBoxModel",
            "_view_count": null,
            "_view_module": "@jupyter-widgets/controls",
            "_view_module_version": "1.5.0",
            "_view_name": "HBoxView",
            "box_style": "",
            "children": [
              "IPY_MODEL_818444ec782142a8bfd6ff3c537f3978",
              "IPY_MODEL_ff528fcc04d847d6b55ddeaa70cbd106",
              "IPY_MODEL_c2ed70ca38754266ba120b3e8f4085ea"
            ],
            "layout": "IPY_MODEL_3c34acb6c73642558332bd9086c7ee58"
          }
        },
        "818444ec782142a8bfd6ff3c537f3978": {
          "model_module": "@jupyter-widgets/controls",
          "model_name": "HTMLModel",
          "model_module_version": "1.5.0",
          "state": {
            "_dom_classes": [],
            "_model_module": "@jupyter-widgets/controls",
            "_model_module_version": "1.5.0",
            "_model_name": "HTMLModel",
            "_view_count": null,
            "_view_module": "@jupyter-widgets/controls",
            "_view_module_version": "1.5.0",
            "_view_name": "HTMLView",
            "description": "",
            "description_tooltip": null,
            "layout": "IPY_MODEL_9609693a80b04943ae2e3e6df88896a9",
            "placeholder": "​",
            "style": "IPY_MODEL_bd22956d97c345a6bfb3bc4c87cbd89e",
            "value": "100%"
          }
        },
        "ff528fcc04d847d6b55ddeaa70cbd106": {
          "model_module": "@jupyter-widgets/controls",
          "model_name": "FloatProgressModel",
          "model_module_version": "1.5.0",
          "state": {
            "_dom_classes": [],
            "_model_module": "@jupyter-widgets/controls",
            "_model_module_version": "1.5.0",
            "_model_name": "FloatProgressModel",
            "_view_count": null,
            "_view_module": "@jupyter-widgets/controls",
            "_view_module_version": "1.5.0",
            "_view_name": "ProgressView",
            "bar_style": "success",
            "description": "",
            "description_tooltip": null,
            "layout": "IPY_MODEL_ca8e4c45bc8b46128707ad9edf70ea8e",
            "max": 34179685,
            "min": 0,
            "orientation": "horizontal",
            "style": "IPY_MODEL_68ff10f3d59d4003acb3195a7b3a796c",
            "value": 34179685
          }
        },
        "c2ed70ca38754266ba120b3e8f4085ea": {
          "model_module": "@jupyter-widgets/controls",
          "model_name": "HTMLModel",
          "model_module_version": "1.5.0",
          "state": {
            "_dom_classes": [],
            "_model_module": "@jupyter-widgets/controls",
            "_model_module_version": "1.5.0",
            "_model_name": "HTMLModel",
            "_view_count": null,
            "_view_module": "@jupyter-widgets/controls",
            "_view_module_version": "1.5.0",
            "_view_name": "HTMLView",
            "description": "",
            "description_tooltip": null,
            "layout": "IPY_MODEL_fdd1a4681e094a10bce88eebc3b44a72",
            "placeholder": "​",
            "style": "IPY_MODEL_58c2c29033f44bafb0b1bfb6674c3bc9",
            "value": " 34179685/34179685 [00:34&lt;00:00, 769536.45it/s]"
          }
        },
        "3c34acb6c73642558332bd9086c7ee58": {
          "model_module": "@jupyter-widgets/base",
          "model_name": "LayoutModel",
          "model_module_version": "1.2.0",
          "state": {
            "_model_module": "@jupyter-widgets/base",
            "_model_module_version": "1.2.0",
            "_model_name": "LayoutModel",
            "_view_count": null,
            "_view_module": "@jupyter-widgets/base",
            "_view_module_version": "1.2.0",
            "_view_name": "LayoutView",
            "align_content": null,
            "align_items": null,
            "align_self": null,
            "border": null,
            "bottom": null,
            "display": null,
            "flex": null,
            "flex_flow": null,
            "grid_area": null,
            "grid_auto_columns": null,
            "grid_auto_flow": null,
            "grid_auto_rows": null,
            "grid_column": null,
            "grid_gap": null,
            "grid_row": null,
            "grid_template_areas": null,
            "grid_template_columns": null,
            "grid_template_rows": null,
            "height": null,
            "justify_content": null,
            "justify_items": null,
            "left": null,
            "margin": null,
            "max_height": null,
            "max_width": null,
            "min_height": null,
            "min_width": null,
            "object_fit": null,
            "object_position": null,
            "order": null,
            "overflow": null,
            "overflow_x": null,
            "overflow_y": null,
            "padding": null,
            "right": null,
            "top": null,
            "visibility": null,
            "width": null
          }
        },
        "9609693a80b04943ae2e3e6df88896a9": {
          "model_module": "@jupyter-widgets/base",
          "model_name": "LayoutModel",
          "model_module_version": "1.2.0",
          "state": {
            "_model_module": "@jupyter-widgets/base",
            "_model_module_version": "1.2.0",
            "_model_name": "LayoutModel",
            "_view_count": null,
            "_view_module": "@jupyter-widgets/base",
            "_view_module_version": "1.2.0",
            "_view_name": "LayoutView",
            "align_content": null,
            "align_items": null,
            "align_self": null,
            "border": null,
            "bottom": null,
            "display": null,
            "flex": null,
            "flex_flow": null,
            "grid_area": null,
            "grid_auto_columns": null,
            "grid_auto_flow": null,
            "grid_auto_rows": null,
            "grid_column": null,
            "grid_gap": null,
            "grid_row": null,
            "grid_template_areas": null,
            "grid_template_columns": null,
            "grid_template_rows": null,
            "height": null,
            "justify_content": null,
            "justify_items": null,
            "left": null,
            "margin": null,
            "max_height": null,
            "max_width": null,
            "min_height": null,
            "min_width": null,
            "object_fit": null,
            "object_position": null,
            "order": null,
            "overflow": null,
            "overflow_x": null,
            "overflow_y": null,
            "padding": null,
            "right": null,
            "top": null,
            "visibility": null,
            "width": null
          }
        },
        "bd22956d97c345a6bfb3bc4c87cbd89e": {
          "model_module": "@jupyter-widgets/controls",
          "model_name": "DescriptionStyleModel",
          "model_module_version": "1.5.0",
          "state": {
            "_model_module": "@jupyter-widgets/controls",
            "_model_module_version": "1.5.0",
            "_model_name": "DescriptionStyleModel",
            "_view_count": null,
            "_view_module": "@jupyter-widgets/base",
            "_view_module_version": "1.2.0",
            "_view_name": "StyleView",
            "description_width": ""
          }
        },
        "ca8e4c45bc8b46128707ad9edf70ea8e": {
          "model_module": "@jupyter-widgets/base",
          "model_name": "LayoutModel",
          "model_module_version": "1.2.0",
          "state": {
            "_model_module": "@jupyter-widgets/base",
            "_model_module_version": "1.2.0",
            "_model_name": "LayoutModel",
            "_view_count": null,
            "_view_module": "@jupyter-widgets/base",
            "_view_module_version": "1.2.0",
            "_view_name": "LayoutView",
            "align_content": null,
            "align_items": null,
            "align_self": null,
            "border": null,
            "bottom": null,
            "display": null,
            "flex": null,
            "flex_flow": null,
            "grid_area": null,
            "grid_auto_columns": null,
            "grid_auto_flow": null,
            "grid_auto_rows": null,
            "grid_column": null,
            "grid_gap": null,
            "grid_row": null,
            "grid_template_areas": null,
            "grid_template_columns": null,
            "grid_template_rows": null,
            "height": null,
            "justify_content": null,
            "justify_items": null,
            "left": null,
            "margin": null,
            "max_height": null,
            "max_width": null,
            "min_height": null,
            "min_width": null,
            "object_fit": null,
            "object_position": null,
            "order": null,
            "overflow": null,
            "overflow_x": null,
            "overflow_y": null,
            "padding": null,
            "right": null,
            "top": null,
            "visibility": null,
            "width": null
          }
        },
        "68ff10f3d59d4003acb3195a7b3a796c": {
          "model_module": "@jupyter-widgets/controls",
          "model_name": "ProgressStyleModel",
          "model_module_version": "1.5.0",
          "state": {
            "_model_module": "@jupyter-widgets/controls",
            "_model_module_version": "1.5.0",
            "_model_name": "ProgressStyleModel",
            "_view_count": null,
            "_view_module": "@jupyter-widgets/base",
            "_view_module_version": "1.2.0",
            "_view_name": "StyleView",
            "bar_color": null,
            "description_width": ""
          }
        },
        "fdd1a4681e094a10bce88eebc3b44a72": {
          "model_module": "@jupyter-widgets/base",
          "model_name": "LayoutModel",
          "model_module_version": "1.2.0",
          "state": {
            "_model_module": "@jupyter-widgets/base",
            "_model_module_version": "1.2.0",
            "_model_name": "LayoutModel",
            "_view_count": null,
            "_view_module": "@jupyter-widgets/base",
            "_view_module_version": "1.2.0",
            "_view_name": "LayoutView",
            "align_content": null,
            "align_items": null,
            "align_self": null,
            "border": null,
            "bottom": null,
            "display": null,
            "flex": null,
            "flex_flow": null,
            "grid_area": null,
            "grid_auto_columns": null,
            "grid_auto_flow": null,
            "grid_auto_rows": null,
            "grid_column": null,
            "grid_gap": null,
            "grid_row": null,
            "grid_template_areas": null,
            "grid_template_columns": null,
            "grid_template_rows": null,
            "height": null,
            "justify_content": null,
            "justify_items": null,
            "left": null,
            "margin": null,
            "max_height": null,
            "max_width": null,
            "min_height": null,
            "min_width": null,
            "object_fit": null,
            "object_position": null,
            "order": null,
            "overflow": null,
            "overflow_x": null,
            "overflow_y": null,
            "padding": null,
            "right": null,
            "top": null,
            "visibility": null,
            "width": null
          }
        },
        "58c2c29033f44bafb0b1bfb6674c3bc9": {
          "model_module": "@jupyter-widgets/controls",
          "model_name": "DescriptionStyleModel",
          "model_module_version": "1.5.0",
          "state": {
            "_model_module": "@jupyter-widgets/controls",
            "_model_module_version": "1.5.0",
            "_model_name": "DescriptionStyleModel",
            "_view_count": null,
            "_view_module": "@jupyter-widgets/base",
            "_view_module_version": "1.2.0",
            "_view_name": "StyleView",
            "description_width": ""
          }
        },
        "3f4310cc0b2840eb949adda30802f663": {
          "model_module": "@jupyter-widgets/controls",
          "model_name": "HBoxModel",
          "model_module_version": "1.5.0",
          "state": {
            "_dom_classes": [],
            "_model_module": "@jupyter-widgets/controls",
            "_model_module_version": "1.5.0",
            "_model_name": "HBoxModel",
            "_view_count": null,
            "_view_module": "@jupyter-widgets/controls",
            "_view_module_version": "1.5.0",
            "_view_name": "HBoxView",
            "box_style": "",
            "children": [
              "IPY_MODEL_e50d3ff6a8a34015bfe5351f6549ef01",
              "IPY_MODEL_d19503f01a08436db5533658a66e84dd",
              "IPY_MODEL_c36b4ae3ca464d84815751b55a32d37d"
            ],
            "layout": "IPY_MODEL_92db86b3742640d18f8e3307ab035077"
          }
        },
        "e50d3ff6a8a34015bfe5351f6549ef01": {
          "model_module": "@jupyter-widgets/controls",
          "model_name": "HTMLModel",
          "model_module_version": "1.5.0",
          "state": {
            "_dom_classes": [],
            "_model_module": "@jupyter-widgets/controls",
            "_model_module_version": "1.5.0",
            "_model_name": "HTMLModel",
            "_view_count": null,
            "_view_module": "@jupyter-widgets/controls",
            "_view_module_version": "1.5.0",
            "_view_name": "HTMLView",
            "description": "",
            "description_tooltip": null,
            "layout": "IPY_MODEL_f169b659db454493b6ba6b1ec5eec086",
            "placeholder": "​",
            "style": "IPY_MODEL_2d2dcd13dd724f24b882142eeac7e882",
            "value": ""
          }
        },
        "d19503f01a08436db5533658a66e84dd": {
          "model_module": "@jupyter-widgets/controls",
          "model_name": "FloatProgressModel",
          "model_module_version": "1.5.0",
          "state": {
            "_dom_classes": [],
            "_model_module": "@jupyter-widgets/controls",
            "_model_module_version": "1.5.0",
            "_model_name": "FloatProgressModel",
            "_view_count": null,
            "_view_module": "@jupyter-widgets/controls",
            "_view_module_version": "1.5.0",
            "_view_name": "ProgressView",
            "bar_style": "info",
            "description": "",
            "description_tooltip": null,
            "layout": "IPY_MODEL_2eed4b2c2f0e4224ab498a1e9910b674",
            "max": 1,
            "min": 0,
            "orientation": "horizontal",
            "style": "IPY_MODEL_34005befb8734fbbb54b5713cda7c5ec",
            "value": 1
          }
        },
        "c36b4ae3ca464d84815751b55a32d37d": {
          "model_module": "@jupyter-widgets/controls",
          "model_name": "HTMLModel",
          "model_module_version": "1.5.0",
          "state": {
            "_dom_classes": [],
            "_model_module": "@jupyter-widgets/controls",
            "_model_module_version": "1.5.0",
            "_model_name": "HTMLModel",
            "_view_count": null,
            "_view_module": "@jupyter-widgets/controls",
            "_view_module_version": "1.5.0",
            "_view_name": "HTMLView",
            "description": "",
            "description_tooltip": null,
            "layout": "IPY_MODEL_ef3678b0744a4a50b9beeeac6e7579eb",
            "placeholder": "​",
            "style": "IPY_MODEL_8bd6f869dd4e41558017d7aba35db4b8",
            "value": " 13849142/? [01:42&lt;00:00, 158939.68it/s]"
          }
        },
        "92db86b3742640d18f8e3307ab035077": {
          "model_module": "@jupyter-widgets/base",
          "model_name": "LayoutModel",
          "model_module_version": "1.2.0",
          "state": {
            "_model_module": "@jupyter-widgets/base",
            "_model_module_version": "1.2.0",
            "_model_name": "LayoutModel",
            "_view_count": null,
            "_view_module": "@jupyter-widgets/base",
            "_view_module_version": "1.2.0",
            "_view_name": "LayoutView",
            "align_content": null,
            "align_items": null,
            "align_self": null,
            "border": null,
            "bottom": null,
            "display": null,
            "flex": null,
            "flex_flow": null,
            "grid_area": null,
            "grid_auto_columns": null,
            "grid_auto_flow": null,
            "grid_auto_rows": null,
            "grid_column": null,
            "grid_gap": null,
            "grid_row": null,
            "grid_template_areas": null,
            "grid_template_columns": null,
            "grid_template_rows": null,
            "height": null,
            "justify_content": null,
            "justify_items": null,
            "left": null,
            "margin": null,
            "max_height": null,
            "max_width": null,
            "min_height": null,
            "min_width": null,
            "object_fit": null,
            "object_position": null,
            "order": null,
            "overflow": null,
            "overflow_x": null,
            "overflow_y": null,
            "padding": null,
            "right": null,
            "top": null,
            "visibility": null,
            "width": null
          }
        },
        "f169b659db454493b6ba6b1ec5eec086": {
          "model_module": "@jupyter-widgets/base",
          "model_name": "LayoutModel",
          "model_module_version": "1.2.0",
          "state": {
            "_model_module": "@jupyter-widgets/base",
            "_model_module_version": "1.2.0",
            "_model_name": "LayoutModel",
            "_view_count": null,
            "_view_module": "@jupyter-widgets/base",
            "_view_module_version": "1.2.0",
            "_view_name": "LayoutView",
            "align_content": null,
            "align_items": null,
            "align_self": null,
            "border": null,
            "bottom": null,
            "display": null,
            "flex": null,
            "flex_flow": null,
            "grid_area": null,
            "grid_auto_columns": null,
            "grid_auto_flow": null,
            "grid_auto_rows": null,
            "grid_column": null,
            "grid_gap": null,
            "grid_row": null,
            "grid_template_areas": null,
            "grid_template_columns": null,
            "grid_template_rows": null,
            "height": null,
            "justify_content": null,
            "justify_items": null,
            "left": null,
            "margin": null,
            "max_height": null,
            "max_width": null,
            "min_height": null,
            "min_width": null,
            "object_fit": null,
            "object_position": null,
            "order": null,
            "overflow": null,
            "overflow_x": null,
            "overflow_y": null,
            "padding": null,
            "right": null,
            "top": null,
            "visibility": null,
            "width": null
          }
        },
        "2d2dcd13dd724f24b882142eeac7e882": {
          "model_module": "@jupyter-widgets/controls",
          "model_name": "DescriptionStyleModel",
          "model_module_version": "1.5.0",
          "state": {
            "_model_module": "@jupyter-widgets/controls",
            "_model_module_version": "1.5.0",
            "_model_name": "DescriptionStyleModel",
            "_view_count": null,
            "_view_module": "@jupyter-widgets/base",
            "_view_module_version": "1.2.0",
            "_view_name": "StyleView",
            "description_width": ""
          }
        },
        "2eed4b2c2f0e4224ab498a1e9910b674": {
          "model_module": "@jupyter-widgets/base",
          "model_name": "LayoutModel",
          "model_module_version": "1.2.0",
          "state": {
            "_model_module": "@jupyter-widgets/base",
            "_model_module_version": "1.2.0",
            "_model_name": "LayoutModel",
            "_view_count": null,
            "_view_module": "@jupyter-widgets/base",
            "_view_module_version": "1.2.0",
            "_view_name": "LayoutView",
            "align_content": null,
            "align_items": null,
            "align_self": null,
            "border": null,
            "bottom": null,
            "display": null,
            "flex": null,
            "flex_flow": null,
            "grid_area": null,
            "grid_auto_columns": null,
            "grid_auto_flow": null,
            "grid_auto_rows": null,
            "grid_column": null,
            "grid_gap": null,
            "grid_row": null,
            "grid_template_areas": null,
            "grid_template_columns": null,
            "grid_template_rows": null,
            "height": null,
            "justify_content": null,
            "justify_items": null,
            "left": null,
            "margin": null,
            "max_height": null,
            "max_width": null,
            "min_height": null,
            "min_width": null,
            "object_fit": null,
            "object_position": null,
            "order": null,
            "overflow": null,
            "overflow_x": null,
            "overflow_y": null,
            "padding": null,
            "right": null,
            "top": null,
            "visibility": null,
            "width": "20px"
          }
        },
        "34005befb8734fbbb54b5713cda7c5ec": {
          "model_module": "@jupyter-widgets/controls",
          "model_name": "ProgressStyleModel",
          "model_module_version": "1.5.0",
          "state": {
            "_model_module": "@jupyter-widgets/controls",
            "_model_module_version": "1.5.0",
            "_model_name": "ProgressStyleModel",
            "_view_count": null,
            "_view_module": "@jupyter-widgets/base",
            "_view_module_version": "1.2.0",
            "_view_name": "StyleView",
            "bar_color": null,
            "description_width": ""
          }
        },
        "ef3678b0744a4a50b9beeeac6e7579eb": {
          "model_module": "@jupyter-widgets/base",
          "model_name": "LayoutModel",
          "model_module_version": "1.2.0",
          "state": {
            "_model_module": "@jupyter-widgets/base",
            "_model_module_version": "1.2.0",
            "_model_name": "LayoutModel",
            "_view_count": null,
            "_view_module": "@jupyter-widgets/base",
            "_view_module_version": "1.2.0",
            "_view_name": "LayoutView",
            "align_content": null,
            "align_items": null,
            "align_self": null,
            "border": null,
            "bottom": null,
            "display": null,
            "flex": null,
            "flex_flow": null,
            "grid_area": null,
            "grid_auto_columns": null,
            "grid_auto_flow": null,
            "grid_auto_rows": null,
            "grid_column": null,
            "grid_gap": null,
            "grid_row": null,
            "grid_template_areas": null,
            "grid_template_columns": null,
            "grid_template_rows": null,
            "height": null,
            "justify_content": null,
            "justify_items": null,
            "left": null,
            "margin": null,
            "max_height": null,
            "max_width": null,
            "min_height": null,
            "min_width": null,
            "object_fit": null,
            "object_position": null,
            "order": null,
            "overflow": null,
            "overflow_x": null,
            "overflow_y": null,
            "padding": null,
            "right": null,
            "top": null,
            "visibility": null,
            "width": null
          }
        },
        "8bd6f869dd4e41558017d7aba35db4b8": {
          "model_module": "@jupyter-widgets/controls",
          "model_name": "DescriptionStyleModel",
          "model_module_version": "1.5.0",
          "state": {
            "_model_module": "@jupyter-widgets/controls",
            "_model_module_version": "1.5.0",
            "_model_name": "DescriptionStyleModel",
            "_view_count": null,
            "_view_module": "@jupyter-widgets/base",
            "_view_module_version": "1.2.0",
            "_view_name": "StyleView",
            "description_width": ""
          }
        }
      }
    }
  },
  "nbformat": 4,
  "nbformat_minor": 0
}